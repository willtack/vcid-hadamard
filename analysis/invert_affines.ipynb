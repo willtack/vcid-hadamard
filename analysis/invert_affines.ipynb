{
 "cells": [
  {
   "cell_type": "code",
   "execution_count": 2,
   "metadata": {},
   "outputs": [],
   "source": [
    "import os\n",
    "local_dir = '/media/will/My Passport/Ubuntu/vcid_hadamard_data'"
   ]
  },
  {
   "cell_type": "code",
   "execution_count": 26,
   "metadata": {},
   "outputs": [
    {
     "name": "stdout",
     "output_type": "stream",
     "text": [
      "convert_xfm -omat '/media/will/My Passport/Ubuntu/vcid_hadamard_data/HC001/sub-HC001_ses-MR_BASELINE_warp_files/mni2struc_affine.mat' -inverse '/media/will/My Passport/Ubuntu/vcid_hadamard_data/HC001/sub-HC001_ses-MR_BASELINE_warp_files/struc2mni_affine.mat'\n",
      "convert_xfm -omat '/media/will/My Passport/Ubuntu/vcid_hadamard_data/HC002/sub-HC002_ses-MR_BASELINE_warp_files/mni2struc_affine.mat' -inverse '/media/will/My Passport/Ubuntu/vcid_hadamard_data/HC002/sub-HC002_ses-MR_BASELINE_warp_files/struc2mni_affine.mat'\n",
      "convert_xfm -omat '/media/will/My Passport/Ubuntu/vcid_hadamard_data/HC002/sub-HC002_ses-MR_FOLLOWUP_warp_files/mni2struc_affine.mat' -inverse '/media/will/My Passport/Ubuntu/vcid_hadamard_data/HC002/sub-HC002_ses-MR_FOLLOWUP_warp_files/struc2mni_affine.mat'\n",
      "convert_xfm -omat '/media/will/My Passport/Ubuntu/vcid_hadamard_data/HC003/sub-HC003_ses-MR_BASELINE_warp_files/mni2struc_affine.mat' -inverse '/media/will/My Passport/Ubuntu/vcid_hadamard_data/HC003/sub-HC003_ses-MR_BASELINE_warp_files/struc2mni_affine.mat'\n",
      "convert_xfm -omat '/media/will/My Passport/Ubuntu/vcid_hadamard_data/HC003/sub-HC003_ses-MR_FOLLOWUP_warp_files/mni2struc_affine.mat' -inverse '/media/will/My Passport/Ubuntu/vcid_hadamard_data/HC003/sub-HC003_ses-MR_FOLLOWUP_warp_files/struc2mni_affine.mat'\n",
      "convert_xfm -omat '/media/will/My Passport/Ubuntu/vcid_hadamard_data/HC004/sub-HC004_ses-MR_BASELINE_warp_files/mni2struc_affine.mat' -inverse '/media/will/My Passport/Ubuntu/vcid_hadamard_data/HC004/sub-HC004_ses-MR_BASELINE_warp_files/struc2mni_affine.mat'\n",
      "convert_xfm -omat '/media/will/My Passport/Ubuntu/vcid_hadamard_data/HC004/sub-HC004_ses-MR_FOLLOWUP_warp_files/mni2struc_affine.mat' -inverse '/media/will/My Passport/Ubuntu/vcid_hadamard_data/HC004/sub-HC004_ses-MR_FOLLOWUP_warp_files/struc2mni_affine.mat'\n",
      "convert_xfm -omat '/media/will/My Passport/Ubuntu/vcid_hadamard_data/HC005/sub-HC005_ses-MR_BASELINE_warp_files/mni2struc_affine.mat' -inverse '/media/will/My Passport/Ubuntu/vcid_hadamard_data/HC005/sub-HC005_ses-MR_BASELINE_warp_files/struc2mni_affine.mat'\n",
      "convert_xfm -omat '/media/will/My Passport/Ubuntu/vcid_hadamard_data/HC005/sub-HC005_ses-MR_FOLLOWUP_warp_files/mni2struc_affine.mat' -inverse '/media/will/My Passport/Ubuntu/vcid_hadamard_data/HC005/sub-HC005_ses-MR_FOLLOWUP_warp_files/struc2mni_affine.mat'\n",
      "convert_xfm -omat '/media/will/My Passport/Ubuntu/vcid_hadamard_data/HC006/sub-HC006_ses-MR_BASELINE_warp_files/mni2struc_affine.mat' -inverse '/media/will/My Passport/Ubuntu/vcid_hadamard_data/HC006/sub-HC006_ses-MR_BASELINE_warp_files/struc2mni_affine.mat'\n",
      "convert_xfm -omat '/media/will/My Passport/Ubuntu/vcid_hadamard_data/HC006/sub-HC006_ses-MR_FOLLOWUP_warp_files/mni2struc_affine.mat' -inverse '/media/will/My Passport/Ubuntu/vcid_hadamard_data/HC006/sub-HC006_ses-MR_FOLLOWUP_warp_files/struc2mni_affine.mat'\n",
      "convert_xfm -omat '/media/will/My Passport/Ubuntu/vcid_hadamard_data/HC007/sub-HC007_ses-MR_BASELINE_warp_files/mni2struc_affine.mat' -inverse '/media/will/My Passport/Ubuntu/vcid_hadamard_data/HC007/sub-HC007_ses-MR_BASELINE_warp_files/struc2mni_affine.mat'\n",
      "convert_xfm -omat '/media/will/My Passport/Ubuntu/vcid_hadamard_data/HC007/sub-HC007_ses-MR_FOLLOWUP_warp_files/mni2struc_affine.mat' -inverse '/media/will/My Passport/Ubuntu/vcid_hadamard_data/HC007/sub-HC007_ses-MR_FOLLOWUP_warp_files/struc2mni_affine.mat'\n",
      "convert_xfm -omat '/media/will/My Passport/Ubuntu/vcid_hadamard_data/HC008/sub-HC008_ses-MR_BASELINE_warp_files/mni2struc_affine.mat' -inverse '/media/will/My Passport/Ubuntu/vcid_hadamard_data/HC008/sub-HC008_ses-MR_BASELINE_warp_files/struc2mni_affine.mat'\n",
      "convert_xfm -omat '/media/will/My Passport/Ubuntu/vcid_hadamard_data/HC008/sub-HC008_ses-MR_FOLLOWUP_warp_files/mni2struc_affine.mat' -inverse '/media/will/My Passport/Ubuntu/vcid_hadamard_data/HC008/sub-HC008_ses-MR_FOLLOWUP_warp_files/struc2mni_affine.mat'\n",
      "convert_xfm -omat '/media/will/My Passport/Ubuntu/vcid_hadamard_data/HC009/sub-HC009_ses-MR_BASELINE_warp_files/mni2struc_affine.mat' -inverse '/media/will/My Passport/Ubuntu/vcid_hadamard_data/HC009/sub-HC009_ses-MR_BASELINE_warp_files/struc2mni_affine.mat'\n",
      "convert_xfm -omat '/media/will/My Passport/Ubuntu/vcid_hadamard_data/HC009/sub-HC009_ses-MR_FOLLOWUP_warp_files/mni2struc_affine.mat' -inverse '/media/will/My Passport/Ubuntu/vcid_hadamard_data/HC009/sub-HC009_ses-MR_FOLLOWUP_warp_files/struc2mni_affine.mat'\n",
      "convert_xfm -omat '/media/will/My Passport/Ubuntu/vcid_hadamard_data/HC010/sub-HC010_ses-MR_BASELINE_warp_files/mni2struc_affine.mat' -inverse '/media/will/My Passport/Ubuntu/vcid_hadamard_data/HC010/sub-HC010_ses-MR_BASELINE_warp_files/struc2mni_affine.mat'\n",
      "convert_xfm -omat '/media/will/My Passport/Ubuntu/vcid_hadamard_data/HC010/sub-HC010_ses-MR_FOLLOWUP_warp_files/mni2struc_affine.mat' -inverse '/media/will/My Passport/Ubuntu/vcid_hadamard_data/HC010/sub-HC010_ses-MR_FOLLOWUP_warp_files/struc2mni_affine.mat'\n",
      "convert_xfm -omat '/media/will/My Passport/Ubuntu/vcid_hadamard_data/HC011/sub-HC011_ses-MR_BASELINE_warp_files/mni2struc_affine.mat' -inverse '/media/will/My Passport/Ubuntu/vcid_hadamard_data/HC011/sub-HC011_ses-MR_BASELINE_warp_files/struc2mni_affine.mat'\n",
      "convert_xfm -omat '/media/will/My Passport/Ubuntu/vcid_hadamard_data/HC011/sub-HC011_ses-MR_FOLLOWUP_warp_files/mni2struc_affine.mat' -inverse '/media/will/My Passport/Ubuntu/vcid_hadamard_data/HC011/sub-HC011_ses-MR_FOLLOWUP_warp_files/struc2mni_affine.mat'\n",
      "convert_xfm -omat '/media/will/My Passport/Ubuntu/vcid_hadamard_data/HC012/sub-HC012_ses-MR_BASELINE_warp_files/mni2struc_affine.mat' -inverse '/media/will/My Passport/Ubuntu/vcid_hadamard_data/HC012/sub-HC012_ses-MR_BASELINE_warp_files/struc2mni_affine.mat'\n",
      "convert_xfm -omat '/media/will/My Passport/Ubuntu/vcid_hadamard_data/HC012/sub-HC012_ses-MR_FOLLOWUP_warp_files/mni2struc_affine.mat' -inverse '/media/will/My Passport/Ubuntu/vcid_hadamard_data/HC012/sub-HC012_ses-MR_FOLLOWUP_warp_files/struc2mni_affine.mat'\n",
      "convert_xfm -omat '/media/will/My Passport/Ubuntu/vcid_hadamard_data/HC013/sub-HC013_ses-MR_BASELINE_warp_files/mni2struc_affine.mat' -inverse '/media/will/My Passport/Ubuntu/vcid_hadamard_data/HC013/sub-HC013_ses-MR_BASELINE_warp_files/struc2mni_affine.mat'\n",
      "convert_xfm -omat '/media/will/My Passport/Ubuntu/vcid_hadamard_data/HC013/sub-HC013_ses-MR_FOLLOWUP_warp_files/mni2struc_affine.mat' -inverse '/media/will/My Passport/Ubuntu/vcid_hadamard_data/HC013/sub-HC013_ses-MR_FOLLOWUP_warp_files/struc2mni_affine.mat'\n",
      "convert_xfm -omat '/media/will/My Passport/Ubuntu/vcid_hadamard_data/HC014/sub-HC014_ses-MR_FOLLOWUP_warp_files/mni2struc_affine.mat' -inverse '/media/will/My Passport/Ubuntu/vcid_hadamard_data/HC014/sub-HC014_ses-MR_FOLLOWUP_warp_files/struc2mni_affine.mat'\n",
      "convert_xfm -omat '/media/will/My Passport/Ubuntu/vcid_hadamard_data/HC015/sub-HC015_ses-MR_FOLLOWUP_warp_files/mni2struc_affine.mat' -inverse '/media/will/My Passport/Ubuntu/vcid_hadamard_data/HC015/sub-HC015_ses-MR_FOLLOWUP_warp_files/struc2mni_affine.mat'\n",
      "convert_xfm -omat '/media/will/My Passport/Ubuntu/vcid_hadamard_data/HC016/sub-HC016_ses-MR_FOLLOWUP_warp_files/mni2struc_affine.mat' -inverse '/media/will/My Passport/Ubuntu/vcid_hadamard_data/HC016/sub-HC016_ses-MR_FOLLOWUP_warp_files/struc2mni_affine.mat'\n",
      "convert_xfm -omat '/media/will/My Passport/Ubuntu/vcid_hadamard_data/HC017/sub-HC017_ses-MR_BASELINE_warp_files/mni2struc_affine.mat' -inverse '/media/will/My Passport/Ubuntu/vcid_hadamard_data/HC017/sub-HC017_ses-MR_BASELINE_warp_files/struc2mni_affine.mat'\n",
      "convert_xfm -omat '/media/will/My Passport/Ubuntu/vcid_hadamard_data/HC017/sub-HC017_ses-MR_FOLLOWUP_warp_files/mni2struc_affine.mat' -inverse '/media/will/My Passport/Ubuntu/vcid_hadamard_data/HC017/sub-HC017_ses-MR_FOLLOWUP_warp_files/struc2mni_affine.mat'\n",
      "convert_xfm -omat '/media/will/My Passport/Ubuntu/vcid_hadamard_data/HC018/sub-HC018_ses-MR_BASELINE_warp_files/mni2struc_affine.mat' -inverse '/media/will/My Passport/Ubuntu/vcid_hadamard_data/HC018/sub-HC018_ses-MR_BASELINE_warp_files/struc2mni_affine.mat'\n",
      "convert_xfm -omat '/media/will/My Passport/Ubuntu/vcid_hadamard_data/HC018/sub-HC018_ses-MR_FOLLOWUP_warp_files/mni2struc_affine.mat' -inverse '/media/will/My Passport/Ubuntu/vcid_hadamard_data/HC018/sub-HC018_ses-MR_FOLLOWUP_warp_files/struc2mni_affine.mat'\n",
      "convert_xfm -omat '/media/will/My Passport/Ubuntu/vcid_hadamard_data/HC019/sub-HC019_ses-MR_BASELINE_warp_files/mni2struc_affine.mat' -inverse '/media/will/My Passport/Ubuntu/vcid_hadamard_data/HC019/sub-HC019_ses-MR_BASELINE_warp_files/struc2mni_affine.mat'\n",
      "convert_xfm -omat '/media/will/My Passport/Ubuntu/vcid_hadamard_data/HC019/sub-HC019_ses-MR_FOLLOWUP_warp_files/mni2struc_affine.mat' -inverse '/media/will/My Passport/Ubuntu/vcid_hadamard_data/HC019/sub-HC019_ses-MR_FOLLOWUP_warp_files/struc2mni_affine.mat'\n",
      "convert_xfm -omat '/media/will/My Passport/Ubuntu/vcid_hadamard_data/HC020/sub-HC020_ses-MR_BASELINE_warp_files/mni2struc_affine.mat' -inverse '/media/will/My Passport/Ubuntu/vcid_hadamard_data/HC020/sub-HC020_ses-MR_BASELINE_warp_files/struc2mni_affine.mat'\n",
      "convert_xfm -omat '/media/will/My Passport/Ubuntu/vcid_hadamard_data/HC020/sub-HC020_ses-MR_FOLLOWUP_warp_files/mni2struc_affine.mat' -inverse '/media/will/My Passport/Ubuntu/vcid_hadamard_data/HC020/sub-HC020_ses-MR_FOLLOWUP_warp_files/struc2mni_affine.mat'\n",
      "convert_xfm -omat '/media/will/My Passport/Ubuntu/vcid_hadamard_data/HC021/sub-HC021_ses-MR_BASELINE_warp_files/mni2struc_affine.mat' -inverse '/media/will/My Passport/Ubuntu/vcid_hadamard_data/HC021/sub-HC021_ses-MR_BASELINE_warp_files/struc2mni_affine.mat'\n",
      "convert_xfm -omat '/media/will/My Passport/Ubuntu/vcid_hadamard_data/HC021/sub-HC021_ses-MR_FOLLOWUP_warp_files/mni2struc_affine.mat' -inverse '/media/will/My Passport/Ubuntu/vcid_hadamard_data/HC021/sub-HC021_ses-MR_FOLLOWUP_warp_files/struc2mni_affine.mat'\n",
      "convert_xfm -omat '/media/will/My Passport/Ubuntu/vcid_hadamard_data/HC023/sub-HC023_ses-MR_BASELINE_warp_files/mni2struc_affine.mat' -inverse '/media/will/My Passport/Ubuntu/vcid_hadamard_data/HC023/sub-HC023_ses-MR_BASELINE_warp_files/struc2mni_affine.mat'\n",
      "convert_xfm -omat '/media/will/My Passport/Ubuntu/vcid_hadamard_data/HC023/sub-HC023_ses-MR_FOLLOWUP_warp_files/mni2struc_affine.mat' -inverse '/media/will/My Passport/Ubuntu/vcid_hadamard_data/HC023/sub-HC023_ses-MR_FOLLOWUP_warp_files/struc2mni_affine.mat'\n",
      "convert_xfm -omat '/media/will/My Passport/Ubuntu/vcid_hadamard_data/HC024/sub-HC024_ses-MR_BASELINE_warp_files/mni2struc_affine.mat' -inverse '/media/will/My Passport/Ubuntu/vcid_hadamard_data/HC024/sub-HC024_ses-MR_BASELINE_warp_files/struc2mni_affine.mat'\n",
      "convert_xfm -omat '/media/will/My Passport/Ubuntu/vcid_hadamard_data/HC024/sub-HC024_ses-MR_FOLLOWUP_warp_files/mni2struc_affine.mat' -inverse '/media/will/My Passport/Ubuntu/vcid_hadamard_data/HC024/sub-HC024_ses-MR_FOLLOWUP_warp_files/struc2mni_affine.mat'\n",
      "convert_xfm -omat '/media/will/My Passport/Ubuntu/vcid_hadamard_data/HC025/sub-HC025_ses-MR_BASELINE_warp_files/mni2struc_affine.mat' -inverse '/media/will/My Passport/Ubuntu/vcid_hadamard_data/HC025/sub-HC025_ses-MR_BASELINE_warp_files/struc2mni_affine.mat'\n",
      "convert_xfm -omat '/media/will/My Passport/Ubuntu/vcid_hadamard_data/HC025/sub-HC025_ses-MR_FOLLOWUP_warp_files/mni2struc_affine.mat' -inverse '/media/will/My Passport/Ubuntu/vcid_hadamard_data/HC025/sub-HC025_ses-MR_FOLLOWUP_warp_files/struc2mni_affine.mat'\n",
      "convert_xfm -omat '/media/will/My Passport/Ubuntu/vcid_hadamard_data/HC026/sub-HC026_ses-MR_BASELINE_warp_files/mni2struc_affine.mat' -inverse '/media/will/My Passport/Ubuntu/vcid_hadamard_data/HC026/sub-HC026_ses-MR_BASELINE_warp_files/struc2mni_affine.mat'\n",
      "convert_xfm -omat '/media/will/My Passport/Ubuntu/vcid_hadamard_data/HC026/sub-HC026_ses-MR_FOLLOWUP_warp_files/mni2struc_affine.mat' -inverse '/media/will/My Passport/Ubuntu/vcid_hadamard_data/HC026/sub-HC026_ses-MR_FOLLOWUP_warp_files/struc2mni_affine.mat'\n",
      "convert_xfm -omat '/media/will/My Passport/Ubuntu/vcid_hadamard_data/HC027/sub-HC027_ses-MR_BASELINE_warp_files/mni2struc_affine.mat' -inverse '/media/will/My Passport/Ubuntu/vcid_hadamard_data/HC027/sub-HC027_ses-MR_BASELINE_warp_files/struc2mni_affine.mat'\n",
      "convert_xfm -omat '/media/will/My Passport/Ubuntu/vcid_hadamard_data/HC027/sub-HC027_ses-MR_FOLLOWUP_warp_files/mni2struc_affine.mat' -inverse '/media/will/My Passport/Ubuntu/vcid_hadamard_data/HC027/sub-HC027_ses-MR_FOLLOWUP_warp_files/struc2mni_affine.mat'\n",
      "convert_xfm -omat '/media/will/My Passport/Ubuntu/vcid_hadamard_data/HC028/sub-HC028_ses-MR_BASELINE_warp_files/mni2struc_affine.mat' -inverse '/media/will/My Passport/Ubuntu/vcid_hadamard_data/HC028/sub-HC028_ses-MR_BASELINE_warp_files/struc2mni_affine.mat'\n",
      "convert_xfm -omat '/media/will/My Passport/Ubuntu/vcid_hadamard_data/HC028/sub-HC028_ses-MR_FOLLOWUP_warp_files/mni2struc_affine.mat' -inverse '/media/will/My Passport/Ubuntu/vcid_hadamard_data/HC028/sub-HC028_ses-MR_FOLLOWUP_warp_files/struc2mni_affine.mat'\n"
     ]
    }
   ],
   "source": [
    "for root, dirs, files in os.walk(local_dir, topdown=False):\n",
    "    for name in dirs:\n",
    "        if \"warp\" in name:\n",
    "            warp_dir = os.path.join(root,name)\n",
    "            for r, d, f in os.walk(warp_dir):\n",
    "                affine = [x for x in f if 'affine' in x]\n",
    "                cmd = \"convert_xfm -omat '{0}/mni2struc_affine.mat' -inverse '{0}/struc2mni_affine.mat'\".format(r)\n",
    "                print(cmd)\n",
    "                os.system(cmd)"
   ]
  },
  {
   "cell_type": "code",
   "execution_count": 13,
   "metadata": {},
   "outputs": [
    {
     "name": "stdout",
     "output_type": "stream",
     "text": [
      "('/media/will/My Passport/Ubuntu/vcid_hadamard_data/HC028/sub-HC028_ses-MR_FOLLOWUP_warp_files', [], ['struc2mni_affine.mat', 'struc2standard_warp.nii.gz', 'struc2standard_warp_inv.nii.gz', 'struc2tt.mat', 'tt2struc.mat'])\n"
     ]
    }
   ],
   "source": [
    "for f in os.walk(warp_dir):\n",
    "    print(f)"
   ]
  }
 ],
 "metadata": {
  "kernelspec": {
   "display_name": "Python 3",
   "language": "python",
   "name": "python3"
  },
  "language_info": {
   "codemirror_mode": {
    "name": "ipython",
    "version": 3
   },
   "file_extension": ".py",
   "mimetype": "text/x-python",
   "name": "python",
   "nbconvert_exporter": "python",
   "pygments_lexer": "ipython3",
   "version": "3.8.8"
  }
 },
 "nbformat": 4,
 "nbformat_minor": 4
}
